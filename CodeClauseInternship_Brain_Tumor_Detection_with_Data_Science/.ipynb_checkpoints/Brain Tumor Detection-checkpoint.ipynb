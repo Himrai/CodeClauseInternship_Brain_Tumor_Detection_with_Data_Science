{
 "cells": [
  {
   "cell_type": "code",
   "execution_count": 1,
   "metadata": {
    "executionInfo": {
     "elapsed": 4876,
     "status": "ok",
     "timestamp": 1670090385001,
     "user": {
      "displayName": "Sameeksha Mishra",
      "userId": "05366612837765886351"
     },
     "user_tz": -330
    },
    "id": "ynf2i45VpdKw"
   },
   "outputs": [
    {
     "ename": "ModuleNotFoundError",
     "evalue": "No module named 'cv2'",
     "output_type": "error",
     "traceback": [
      "\u001b[1;31m---------------------------------------------------------------------------\u001b[0m",
      "\u001b[1;31mModuleNotFoundError\u001b[0m                       Traceback (most recent call last)",
      "Cell \u001b[1;32mIn [1], line 9\u001b[0m\n\u001b[0;32m      7\u001b[0m \u001b[38;5;28;01mimport\u001b[39;00m \u001b[38;5;21;01mshutil\u001b[39;00m\n\u001b[0;32m      8\u001b[0m \u001b[38;5;28;01mimport\u001b[39;00m \u001b[38;5;21;01mglob\u001b[39;00m\n\u001b[1;32m----> 9\u001b[0m \u001b[38;5;28;01mimport\u001b[39;00m \u001b[38;5;21;01mcv2\u001b[39;00m\n\u001b[0;32m     10\u001b[0m \u001b[38;5;28;01mimport\u001b[39;00m \u001b[38;5;21;01mimutils\u001b[39;00m\n\u001b[0;32m     11\u001b[0m \u001b[38;5;28;01mimport\u001b[39;00m \u001b[38;5;21;01mseaborn\u001b[39;00m \u001b[38;5;28;01mas\u001b[39;00m \u001b[38;5;21;01msns\u001b[39;00m\n",
      "\u001b[1;31mModuleNotFoundError\u001b[0m: No module named 'cv2'"
     ]
    }
   ],
   "source": [
    "import warnings\n",
    "warnings.filterwarnings('ignore')\n",
    "import numpy as np\n",
    "import matplotlib.pyplot as plt\n",
    "import os\n",
    "import math\n",
    "import shutil\n",
    "import glob\n",
    "import cv2\n",
    "import imutils\n",
    "import seaborn as sns\n",
    "from sklearn.utils import shuffle\n",
    "from keras.preprocessing.image import ImageDataGenerator\n",
    "from tensorflow.keras.utils import load_img, img_to_array\n",
    "from keras.layers import Conv2D, MaxPool2D, Dropout, Flatten, Dense, BatchNormalization, GlobalAveragePooling2D\n",
    "from keras.models import Model, Sequential\n",
    "import keras"
   ]
  },
  {
   "cell_type": "code",
   "execution_count": null,
   "metadata": {
    "colab": {
     "base_uri": "https://localhost:8080/"
    },
    "executionInfo": {
     "elapsed": 45,
     "status": "ok",
     "timestamp": 1670090385005,
     "user": {
      "displayName": "Sameeksha Mishra",
      "userId": "05366612837765886351"
     },
     "user_tz": -330
    },
    "id": "04UebrTdAW1v",
    "outputId": "c7051b85-5984-4f70-e6af-29e21255e9ca"
   },
   "outputs": [],
   "source": [
    "!unzip '/content/brain_tumor_dataset.zip'"
   ]
  },
  {
   "cell_type": "code",
   "execution_count": null,
   "metadata": {
    "colab": {
     "base_uri": "https://localhost:8080/"
    },
    "executionInfo": {
     "elapsed": 30,
     "status": "ok",
     "timestamp": 1670090385006,
     "user": {
      "displayName": "Sameeksha Mishra",
      "userId": "05366612837765886351"
     },
     "user_tz": -330
    },
    "id": "vRnmkbTrqu0b",
    "outputId": "3cc222be-0235-4793-86a1-d8f5620ea62c"
   },
   "outputs": [],
   "source": [
    "# count imagees in the two folders: yes(Tumor) and no(Healthy)\n",
    "root = '/content/brain_tumor_dataset'\n",
    "dict_img = {}\n",
    "for dir in os.listdir(root):\n",
    "  dict_img[dir] = len(os.listdir(os.path.join(root,dir)))\n",
    "dict_img"
   ]
  },
  {
   "cell_type": "code",
   "execution_count": null,
   "metadata": {
    "executionInfo": {
     "elapsed": 20,
     "status": "ok",
     "timestamp": 1670090385007,
     "user": {
      "displayName": "Sameeksha Mishra",
      "userId": "05366612837765886351"
     },
     "user_tz": -330
    },
    "id": "18KKC0LhIfwG"
   },
   "outputs": [],
   "source": [
    "#Define a function for image augmentation\n",
    "def augment_data(file_dir, n_generated_samples, save_to_dir):\n",
    "    data_gen = ImageDataGenerator(rotation_range=10, \n",
    "                                  width_shift_range=0.1, \n",
    "                                  height_shift_range=0.1, \n",
    "                                  shear_range=0.1, \n",
    "                                  brightness_range=(0.3, 1.0),\n",
    "                                  horizontal_flip=True, \n",
    "                                  vertical_flip=True, \n",
    "                                  fill_mode='nearest',\n",
    "                                  rescale= 1/255\n",
    "                                 )\n",
    "\n",
    "    for filename in os.listdir(file_dir):\n",
    "        image = cv2.imread(file_dir + '/' + filename)\n",
    "        # reshape the image\n",
    "        image = image.reshape((1,)+image.shape)\n",
    "        save_prefix = 'aug_' + filename[:-4]\n",
    "        i=0\n",
    "        for batch in data_gen.flow(x=image, batch_size=1, save_to_dir=save_to_dir,save_prefix=save_prefix, save_format='jpg'):\n",
    "                i += 1\n",
    "                if i > n_generated_samples:\n",
    "                    break"
   ]
  },
  {
   "cell_type": "code",
   "execution_count": null,
   "metadata": {
    "executionInfo": {
     "elapsed": 20,
     "status": "ok",
     "timestamp": 1670090385008,
     "user": {
      "displayName": "Sameeksha Mishra",
      "userId": "05366612837765886351"
     },
     "user_tz": -330
    },
    "id": "lO9u_zhQIpOn"
   },
   "outputs": [],
   "source": [
    "#Create augmented images folders\n",
    "#L = ['aug_train', 'aug_test', 'aug_val']\n",
    "name = 'aug_data'\n",
    "if not os.path.exists(\"./\"+name):\n",
    "  os.mkdir(\"./\"+name)\n",
    "  for dir in os.listdir(root):\n",
    "    os.makedirs(\"./\"+name+\"/\"+dir)\n",
    "else:\n",
    "  print(f\"{name} Already exists\")"
   ]
  },
  {
   "cell_type": "code",
   "execution_count": null,
   "metadata": {
    "executionInfo": {
     "elapsed": 121370,
     "status": "ok",
     "timestamp": 1670090506358,
     "user": {
      "displayName": "Sameeksha Mishra",
      "userId": "05366612837765886351"
     },
     "user_tz": -330
    },
    "id": "0trAZ1r6Irhb"
   },
   "outputs": [],
   "source": [
    "#Augment data for the examples with the label 'yes' in the training set\n",
    "augment_data(file_dir='./brain_tumor_dataset/yes',n_generated_samples=8, save_to_dir='./aug_data/yes')\n",
    "#Augment data for the examples with the label 'no' in the training set\n",
    "augment_data(file_dir='./brain_tumor_dataset/no', n_generated_samples=12, save_to_dir='./aug_data/no')"
   ]
  },
  {
   "cell_type": "code",
   "execution_count": null,
   "metadata": {
    "colab": {
     "base_uri": "https://localhost:8080/"
    },
    "executionInfo": {
     "elapsed": 59,
     "status": "ok",
     "timestamp": 1670090506361,
     "user": {
      "displayName": "Sameeksha Mishra",
      "userId": "05366612837765886351"
     },
     "user_tz": -330
    },
    "id": "y7GGqxxBIw2J",
    "outputId": "3bb8d753-9053-4119-8bd7-af55ed91e8a3"
   },
   "outputs": [],
   "source": [
    "# count images in the two folders: yes(tumor) and no(healthy) of augmented images\n",
    "root = '/content/aug_data'\n",
    "dict_img = {}\n",
    "for dir in os.listdir(root):\n",
    "  dict_img[dir] = len(os.listdir(os.path.join(root, dir)))\n",
    "dict_img"
   ]
  },
  {
   "cell_type": "code",
   "execution_count": null,
   "metadata": {
    "executionInfo": {
     "elapsed": 57,
     "status": "ok",
     "timestamp": 1670090506365,
     "user": {
      "displayName": "Sameeksha Mishra",
      "userId": "05366612837765886351"
     },
     "user_tz": -330
    },
    "id": "W182P981K8ed"
   },
   "outputs": [],
   "source": [
    "#Define a function that creates new folders for the train, test and val sets and append random pictures to them based on the split percentage\n",
    "def create_folders(name, perc):\n",
    "  if not os.path.exists(\"./\"+name):\n",
    "    os.mkdir(\"./\"+name)\n",
    "    for dir in os.listdir(root):\n",
    "      os.makedirs(\"./\"+name+\"/\"+dir)\n",
    "      for img in np.random.choice(a=os.listdir(os.path.join(root, dir)), size=(math.floor(perc*dict_img[dir])), replace=False):\n",
    "        Src = os.path.join(root, dir, img)\n",
    "        Dest = os.path.join(\"./\"+name, dir)\n",
    "        shutil.copy(Src, Dest)\n",
    "        os.remove(Src)\n",
    "  else:\n",
    "    print(f'{name} Already exists')"
   ]
  },
  {
   "cell_type": "code",
   "execution_count": null,
   "metadata": {
    "executionInfo": {
     "elapsed": 58,
     "status": "ok",
     "timestamp": 1670090506367,
     "user": {
      "displayName": "Sameeksha Mishra",
      "userId": "05366612837765886351"
     },
     "user_tz": -330
    },
    "id": "jl_Lh3XfMOJ3"
   },
   "outputs": [],
   "source": [
    "# craete the training set\n",
    "create_folders('train', 0.7)"
   ]
  },
  {
   "cell_type": "code",
   "execution_count": null,
   "metadata": {
    "executionInfo": {
     "elapsed": 59,
     "status": "ok",
     "timestamp": 1670090506369,
     "user": {
      "displayName": "Sameeksha Mishra",
      "userId": "05366612837765886351"
     },
     "user_tz": -330
    },
    "id": "K_PRbrcxMaxr"
   },
   "outputs": [],
   "source": [
    "# create the test set\n",
    "create_folders('test', 0.15)"
   ]
  },
  {
   "cell_type": "code",
   "execution_count": null,
   "metadata": {
    "executionInfo": {
     "elapsed": 60,
     "status": "ok",
     "timestamp": 1670090506371,
     "user": {
      "displayName": "Sameeksha Mishra",
      "userId": "05366612837765886351"
     },
     "user_tz": -330
    },
    "id": "JFTf2V1tMhz5"
   },
   "outputs": [],
   "source": [
    "# create the validation set\n",
    "create_folders('val', 0.15)"
   ]
  },
  {
   "cell_type": "code",
   "execution_count": null,
   "metadata": {
    "executionInfo": {
     "elapsed": 61,
     "status": "ok",
     "timestamp": 1670090506372,
     "user": {
      "displayName": "Sameeksha Mishra",
      "userId": "05366612837765886351"
     },
     "user_tz": -330
    },
    "id": "XKPurSpeMm0U"
   },
   "outputs": [],
   "source": [
    "# define a function that counts images in the folders: yes (Tumor) and no (Healthy)\n",
    "def count_img(folder):\n",
    "  dict_img = {}\n",
    "  for dir in os.listdir(folder):\n",
    "    dict_img[dir] = len(os.listdir(os.path.join(folder, dir)))\n",
    "  return dict_img"
   ]
  },
  {
   "cell_type": "code",
   "execution_count": null,
   "metadata": {
    "colab": {
     "base_uri": "https://localhost:8080/"
    },
    "executionInfo": {
     "elapsed": 60,
     "status": "ok",
     "timestamp": 1670090506372,
     "user": {
      "displayName": "Sameeksha Mishra",
      "userId": "05366612837765886351"
     },
     "user_tz": -330
    },
    "id": "G3u0ZV_NNCaf",
    "outputId": "3f74eeed-c5bb-4607-b90e-faf3c9a81681"
   },
   "outputs": [],
   "source": [
    "# count images in training set\n",
    "count_img('train')"
   ]
  },
  {
   "cell_type": "code",
   "execution_count": null,
   "metadata": {
    "colab": {
     "base_uri": "https://localhost:8080/"
    },
    "executionInfo": {
     "elapsed": 55,
     "status": "ok",
     "timestamp": 1670090506373,
     "user": {
      "displayName": "Sameeksha Mishra",
      "userId": "05366612837765886351"
     },
     "user_tz": -330
    },
    "id": "4W4HEtn9NIEX",
    "outputId": "9df9a42e-b59b-405f-e408-416b90b3bc1f"
   },
   "outputs": [],
   "source": [
    "# count images in test set\n",
    "count_img('test')"
   ]
  },
  {
   "cell_type": "code",
   "execution_count": null,
   "metadata": {
    "colab": {
     "base_uri": "https://localhost:8080/"
    },
    "executionInfo": {
     "elapsed": 51,
     "status": "ok",
     "timestamp": 1670090506373,
     "user": {
      "displayName": "Sameeksha Mishra",
      "userId": "05366612837765886351"
     },
     "user_tz": -330
    },
    "id": "CHnxmdDpNPGV",
    "outputId": "96ed17aa-14b8-40b9-8023-33005b6f751f"
   },
   "outputs": [],
   "source": [
    "# count images in validation set\n",
    "count_img('val')"
   ]
  },
  {
   "cell_type": "markdown",
   "metadata": {
    "id": "tatBzHkYNsQd"
   },
   "source": [
    "Image Preprocessing"
   ]
  },
  {
   "cell_type": "code",
   "execution_count": null,
   "metadata": {
    "executionInfo": {
     "elapsed": 49,
     "status": "ok",
     "timestamp": 1670090506374,
     "user": {
      "displayName": "Sameeksha Mishra",
      "userId": "05366612837765886351"
     },
     "user_tz": -330
    },
    "id": "deqckdBONUhx"
   },
   "outputs": [],
   "source": [
    "# define a function that crop the brain contour\n",
    "def crop_brain_contour(image, plot=False):\n",
    "  # convert the image to grayscale, and blur it slightly\n",
    "  gray = cv2.cvtColor(image, cv2.COLOR_BGR2GRAY)\n",
    "  gray = cv2.GaussianBlur(gray, (5,5), 0)\n",
    "\n",
    "  thresh = cv2.threshold(gray, 45, 255, cv2.THRESH_BINARY)[1]\n",
    "  thresh = cv2.erode(thresh, None, iterations=2)\n",
    "  thresh = cv2.dilate(thresh, None, iterations=2)\n",
    "\n",
    "  #Find contours in thresholded image, then grab the largest one\n",
    "  cnts = cv2.findContours(thresh.copy(), cv2.RETR_EXTERNAL, cv2.CHAIN_APPROX_SIMPLE)\n",
    "  cnts = imutils.grab_contours(cnts)\n",
    "  c = max(cnts, key=cv2.contourArea)\n",
    "\n",
    "  #Extreme points\n",
    "  extLeft = tuple(c[c[:, :, 0].argmin()][0])\n",
    "  extRight = tuple(c[c[:, :, 0].argmax()][0])\n",
    "  extTop = tuple(c[c[:, :, 1].argmin()][0])\n",
    "  extBot = tuple(c[c[:, :, 1].argmax()][0])\n",
    "\n",
    "  new_image = image[extTop[1]:extBot[1], extLeft[0]:extRight[0]]            \n",
    "  if plot:\n",
    "    plt.figure()\n",
    "    plt.subplot(1, 2, 1)\n",
    "    plt.imshow(image)\n",
    "    plt.tick_params(axis='both', which='both', top=False, bottom=False, left=False, right=False,labelbottom=False, labeltop=False, labelleft=False, labelright=False)\n",
    "    plt.title('Original Image')\n",
    "    plt.subplot(1, 2, 2)\n",
    "    plt.imshow(new_image)\n",
    "    plt.tick_params(axis='both', which='both',top=False, bottom=False, left=False, right=False,labelbottom=False, labeltop=False, labelleft=False, labelright=False)\n",
    "    plt.title('Cropped Image')\n",
    "    plt.show()\n",
    "  return new_image"
   ]
  },
  {
   "cell_type": "code",
   "execution_count": null,
   "metadata": {
    "colab": {
     "base_uri": "https://localhost:8080/",
     "height": 225
    },
    "executionInfo": {
     "elapsed": 48,
     "status": "ok",
     "timestamp": 1670090506374,
     "user": {
      "displayName": "Sameeksha Mishra",
      "userId": "05366612837765886351"
     },
     "user_tz": -330
    },
    "id": "JAjD1MvUP24J",
    "outputId": "1aa4e6e1-7887-4649-d818-6d0116be40b3"
   },
   "outputs": [],
   "source": [
    "#Example\n",
    "ex_img = cv2.imread('/content/brain_tumor_dataset/no/1 no.jpeg')\n",
    "img = crop_brain_contour(ex_img, plot=True)"
   ]
  },
  {
   "cell_type": "code",
   "execution_count": null,
   "metadata": {
    "executionInfo": {
     "elapsed": 33,
     "status": "ok",
     "timestamp": 1670090506375,
     "user": {
      "displayName": "Sameeksha Mishra",
      "userId": "05366612837765886351"
     },
     "user_tz": -330
    },
    "id": "oY_25HaORFfN"
   },
   "outputs": [],
   "source": [
    "# define a function that load data\n",
    "def load_data(dir_list, image_size):\n",
    "  # load all images in directory\n",
    "  X = []\n",
    "  y = []\n",
    "  image_width, image_height = image_size\n",
    "  for directory in dir_list:\n",
    "        for filename in os.listdir(directory):\n",
    "            image = cv2.imread(directory+'/'+filename)\n",
    "            image = crop_brain_contour(image, plot=False)\n",
    "            image = cv2.resize(image, dsize=(image_width, image_height), interpolation=cv2.INTER_CUBIC)\n",
    "            # normalize values\n",
    "            image = image / 255.\n",
    "            # convert image to numpy array and append it to X\n",
    "            X.append(image)\n",
    "            # append a value of 1 to the target array if the image\n",
    "            # is in the folder named 'yes', otherwise append 0.\n",
    "            if directory[-3:] == 'yes':\n",
    "                y.append([1])\n",
    "            else:\n",
    "                y.append([0])\n",
    "                \n",
    "  X = np.array(X)\n",
    "  y = np.array(y)\n",
    "  \n",
    "  # Shuffle the data\n",
    "  X, y = shuffle(X, y)\n",
    "  \n",
    "  print(f'Number of examples is: {len(X)}')\n",
    "  print(f'X shape is: {X.shape}')\n",
    "  print(f'y shape is: {y.shape}')\n",
    "  \n",
    "  return X, y"
   ]
  },
  {
   "cell_type": "code",
   "execution_count": null,
   "metadata": {
    "colab": {
     "base_uri": "https://localhost:8080/"
    },
    "executionInfo": {
     "elapsed": 8261,
     "status": "ok",
     "timestamp": 1670090514604,
     "user": {
      "displayName": "Sameeksha Mishra",
      "userId": "05366612837765886351"
     },
     "user_tz": -330
    },
    "id": "v-KvtvlMQB7y",
    "outputId": "945585d9-215e-47db-f8fa-133769c11e71"
   },
   "outputs": [],
   "source": [
    "# load training data\n",
    "IMG_WIDTH, IMG_HEIGHT = (240, 240)\n",
    "X_train, y_train = load_data(['/content/train/yes','/content/train/no'], (IMG_WIDTH, IMG_HEIGHT))"
   ]
  },
  {
   "cell_type": "code",
   "execution_count": null,
   "metadata": {
    "executionInfo": {
     "elapsed": 10,
     "status": "ok",
     "timestamp": 1670090514604,
     "user": {
      "displayName": "Sameeksha Mishra",
      "userId": "05366612837765886351"
     },
     "user_tz": -330
    },
    "id": "ZXzPQwtUSYtg"
   },
   "outputs": [],
   "source": [
    "# define a function that plot images\n",
    "def plot_sample_images(X, y, n=40):\n",
    "  for label in [0,1]:\n",
    "    # grab the first n images with the corresponding y values equal to label\n",
    "    images = X[np.argwhere(y == label)]\n",
    "    n_images = images[:n]\n",
    "\n",
    "    columns_n = 10\n",
    "    rows_n = int(n/columns_n)\n",
    "    plt.figure(figsize=(10,8))\n",
    "    i = 1 #current plot\n",
    "    for image in n_images:\n",
    "      plt.subplot(rows_n, columns_n, i);\n",
    "      plt.imshow(image[0])\n",
    "      plt.tick_params(axis='both', which='both', \n",
    "                        top=False, bottom=False, left=False, right=False,\n",
    "                        labelbottom=False, labeltop=False, labelleft=False, labelright=False)\n",
    "        \n",
    "      i += 1\n",
    "    label_to_str = lambda label: \"Yes\" if label == 1 else \"No\"\n",
    "    plt.suptitle(f\"Brain Tumor: {label_to_str(label)}\")\n",
    "    plt.show()"
   ]
  },
  {
   "cell_type": "code",
   "execution_count": null,
   "metadata": {
    "colab": {
     "base_uri": "https://localhost:8080/",
     "height": 983
    },
    "executionInfo": {
     "elapsed": 16066,
     "status": "ok",
     "timestamp": 1670090530663,
     "user": {
      "displayName": "Sameeksha Mishra",
      "userId": "05366612837765886351"
     },
     "user_tz": -330
    },
    "id": "kXhtOzSgR7tP",
    "outputId": "78640118-dac4-4cb8-fb5c-1e2028f99697"
   },
   "outputs": [],
   "source": [
    "# plot sample from the training set\n",
    "plot_sample_images(X_train, y_train)"
   ]
  },
  {
   "cell_type": "markdown",
   "metadata": {
    "id": "l-kc8JpUT8kq"
   },
   "source": [
    "We can notice that the noise has been deleted and some images look alike with some slight changes resulted from the data augmentation"
   ]
  },
  {
   "cell_type": "code",
   "execution_count": null,
   "metadata": {
    "colab": {
     "base_uri": "https://localhost:8080/"
    },
    "executionInfo": {
     "elapsed": 1072,
     "status": "ok",
     "timestamp": 1670090531723,
     "user": {
      "displayName": "Sameeksha Mishra",
      "userId": "05366612837765886351"
     },
     "user_tz": -330
    },
    "id": "N2B_0pwBToKL",
    "outputId": "c3e97de0-53ae-471b-8b28-5abf48772920"
   },
   "outputs": [],
   "source": [
    "#Load test data\n",
    "IMG_WIDTH, IMG_HEIGHT = (240, 240)\n",
    "X_test, y_test = load_data(['/content/test/yes', '/content/test/no'], (IMG_WIDTH, IMG_HEIGHT))"
   ]
  },
  {
   "cell_type": "code",
   "execution_count": null,
   "metadata": {
    "colab": {
     "base_uri": "https://localhost:8080/"
    },
    "executionInfo": {
     "elapsed": 2521,
     "status": "ok",
     "timestamp": 1670090534240,
     "user": {
      "displayName": "Sameeksha Mishra",
      "userId": "05366612837765886351"
     },
     "user_tz": -330
    },
    "id": "buprkRrQUClq",
    "outputId": "43cdfc06-bf04-4ed7-8e0c-0d3bc9e9e581"
   },
   "outputs": [],
   "source": [
    "#Load validation data\n",
    "IMG_WIDTH, IMG_HEIGHT = (240, 240)\n",
    "X_val, y_val = load_data(['/content/val/yes', '/content/val/no'], (IMG_WIDTH, IMG_HEIGHT))"
   ]
  },
  {
   "cell_type": "code",
   "execution_count": null,
   "metadata": {
    "colab": {
     "base_uri": "https://localhost:8080/",
     "height": 983
    },
    "executionInfo": {
     "elapsed": 13748,
     "status": "ok",
     "timestamp": 1670090547965,
     "user": {
      "displayName": "Sameeksha Mishra",
      "userId": "05366612837765886351"
     },
     "user_tz": -330
    },
    "id": "l0Cwrw8HUJS8",
    "outputId": "7cdc7e6a-aaa7-43d9-d675-b5fb248d89d9"
   },
   "outputs": [],
   "source": [
    "#Plot samples from the validation set\n",
    "plot_sample_images(X_val, y_val)"
   ]
  },
  {
   "cell_type": "markdown",
   "metadata": {
    "id": "6F0e81OaUZ1s"
   },
   "source": [
    "CNN Model"
   ]
  },
  {
   "cell_type": "code",
   "execution_count": null,
   "metadata": {
    "colab": {
     "base_uri": "https://localhost:8080/"
    },
    "executionInfo": {
     "elapsed": 2484,
     "status": "ok",
     "timestamp": 1670090550427,
     "user": {
      "displayName": "Sameeksha Mishra",
      "userId": "05366612837765886351"
     },
     "user_tz": -330
    },
    "id": "-nv2_I2LUPfq",
    "outputId": "e978161e-183d-46ed-fc2b-40e0366b9948"
   },
   "outputs": [],
   "source": [
    "#Build our model\n",
    "model = Sequential()\n",
    "\n",
    "model.add(Conv2D(filters = 16, kernel_size = (3,3), activation = 'relu', input_shape = (240, 240, 3)))\n",
    "\n",
    "model.add(Conv2D(filters = 32, kernel_size = (3,3), activation = 'relu'))\n",
    "model.add(MaxPool2D(pool_size = (2,2)))\n",
    "\n",
    "model.add(Conv2D(filters = 64, kernel_size = (3,3), activation = 'relu'))\n",
    "model.add(MaxPool2D(pool_size = (2,2)))\n",
    "\n",
    "model.add(Conv2D(filters = 128, kernel_size = (3,3), activation = 'relu'))\n",
    "model.add(MaxPool2D(pool_size = (2,2)))\n",
    "\n",
    "model.add(Dropout(rate = 0.25))\n",
    "\n",
    "model.add(Flatten())\n",
    "model.add(Dense(units = 64, activation = 'relu'))\n",
    "model.add(Dropout(rate = 0.25)) \n",
    "model.add(Dense(units = 1, activation = 'sigmoid'))\n",
    "\n",
    "model.summary()"
   ]
  },
  {
   "cell_type": "code",
   "execution_count": null,
   "metadata": {
    "executionInfo": {
     "elapsed": 11,
     "status": "ok",
     "timestamp": 1670090550427,
     "user": {
      "displayName": "Sameeksha Mishra",
      "userId": "05366612837765886351"
     },
     "user_tz": -330
    },
    "id": "haKdXQ1xVP5F"
   },
   "outputs": [],
   "source": [
    "#Compile our model\n",
    "model.compile(optimizer = 'adam', loss = keras.losses.binary_crossentropy, metrics = ['accuracy'])"
   ]
  },
  {
   "cell_type": "code",
   "execution_count": null,
   "metadata": {
    "executionInfo": {
     "elapsed": 10,
     "status": "ok",
     "timestamp": 1670090550428,
     "user": {
      "displayName": "Sameeksha Mishra",
      "userId": "05366612837765886351"
     },
     "user_tz": -330
    },
    "id": "m23acrgkVZV9"
   },
   "outputs": [],
   "source": [
    "#Early stopping and model checkpoint\n",
    "from keras.callbacks import ModelCheckpoint, EarlyStopping\n",
    "\n",
    "es = EarlyStopping(monitor = 'val_accuracy', min_delta = 0.01, patience = 5, verbose = 1, mode = 'auto')\n",
    "mc = ModelCheckpoint(monitor ='val_accuracy', filepath = './bestmodel.h5', verbose = 1, save_best_only = True, mode = 'auto')\n",
    "\n",
    "cd = [es, mc]"
   ]
  },
  {
   "cell_type": "code",
   "execution_count": null,
   "metadata": {
    "colab": {
     "base_uri": "https://localhost:8080/"
    },
    "executionInfo": {
     "elapsed": 92754,
     "status": "ok",
     "timestamp": 1670090643173,
     "user": {
      "displayName": "Sameeksha Mishra",
      "userId": "05366612837765886351"
     },
     "user_tz": -330
    },
    "id": "FdGToOccWNZ6",
    "outputId": "6ce32200-94f0-4d58-83b6-90faefdb7ee5"
   },
   "outputs": [],
   "source": [
    "#Train our model\n",
    "hist = model.fit(x = X_train, y = y_train, batch_size = 32, epochs = 30, validation_data = (X_val, y_val), callbacks = cd, verbose = 1)"
   ]
  },
  {
   "cell_type": "code",
   "execution_count": null,
   "metadata": {
    "colab": {
     "base_uri": "https://localhost:8080/",
     "height": 281
    },
    "executionInfo": {
     "elapsed": 51056,
     "status": "ok",
     "timestamp": 1670090694221,
     "user": {
      "displayName": "Sameeksha Mishra",
      "userId": "05366612837765886351"
     },
     "user_tz": -330
    },
    "id": "DcEbb_z3WTI8",
    "outputId": "fac78294-b29c-4dfd-b69b-5d2c6ac3f492"
   },
   "outputs": [],
   "source": [
    "#Plot the graphical interpretation\n",
    "h = hist.history\n",
    "plt.plot(h['accuracy'], label = 'accuracy')\n",
    "plt.plot(h['val_accuracy'], label = 'val-accuracy')\n",
    "plt.title('Accuracy vs Val Accuracy')\n",
    "plt.legend()\n",
    "plt.show()"
   ]
  },
  {
   "cell_type": "code",
   "execution_count": null,
   "metadata": {
    "colab": {
     "base_uri": "https://localhost:8080/",
     "height": 281
    },
    "executionInfo": {
     "elapsed": 1153,
     "status": "ok",
     "timestamp": 1670090695368,
     "user": {
      "displayName": "Sameeksha Mishra",
      "userId": "05366612837765886351"
     },
     "user_tz": -330
    },
    "id": "wmbrqo6CbT_p",
    "outputId": "81f5520e-3ca2-4d7f-c23d-526ee79d81a3"
   },
   "outputs": [],
   "source": [
    "#Plot the graphical interpretation\n",
    "h = hist.history\n",
    "plt.plot(h['loss'], label = 'loss')\n",
    "plt.plot(h['val_loss'], label = 'val-loss')\n",
    "plt.title('Loss vs Val Loss')\n",
    "plt.legend()\n",
    "plt.show()"
   ]
  },
  {
   "cell_type": "code",
   "execution_count": null,
   "metadata": {
    "colab": {
     "base_uri": "https://localhost:8080/"
    },
    "executionInfo": {
     "elapsed": 1172,
     "status": "ok",
     "timestamp": 1670090696523,
     "user": {
      "displayName": "Sameeksha Mishra",
      "userId": "05366612837765886351"
     },
     "user_tz": -330
    },
    "id": "wuFZrbxJbpKI",
    "outputId": "8032fdbf-911f-4095-819a-d5b1e96642bd"
   },
   "outputs": [],
   "source": [
    "#Test our model on the test set\n",
    "from keras.models import load_model\n",
    "model = load_model('/content/bestmodel.h5')\n",
    "acc = model.evaluate(X_test, y_test)[1]\n",
    "print(f'The accuracy of our model is {acc}')"
   ]
  },
  {
   "cell_type": "code",
   "execution_count": null,
   "metadata": {
    "colab": {
     "base_uri": "https://localhost:8080/"
    },
    "executionInfo": {
     "elapsed": 904,
     "status": "ok",
     "timestamp": 1670090726118,
     "user": {
      "displayName": "Sameeksha Mishra",
      "userId": "05366612837765886351"
     },
     "user_tz": -330
    },
    "id": "PWzsYNv6bv1r",
    "outputId": "af0be820-f9fe-437a-c254-ffb8e7a8a25e"
   },
   "outputs": [],
   "source": [
    "#Try our model on a random image that it has never seen before\n",
    "#Choose a MRI image with tumor\n",
    "path = \"/content/aug_data/yes/aug_Y108_0_4187.jpg\"\n",
    "img_yes = load_img(path, target_size=(240,240))\n",
    "img_array_yes = img_to_array(img_yes)/255\n",
    "img_array_yes = np.expand_dims(img_array_yes, axis=0)\n",
    "prediction1 = model.predict(img_array_yes)\n",
    "class1 = np.round(prediction1).astype(int)\n",
    "if class1 == 0:\n",
    "  print(\"The MRI image doesn't have a Tumor\")\n",
    "else:\n",
    "  print(\"The MRI image has a tumor\")"
   ]
  },
  {
   "cell_type": "code",
   "execution_count": null,
   "metadata": {
    "colab": {
     "base_uri": "https://localhost:8080/"
    },
    "executionInfo": {
     "elapsed": 783,
     "status": "ok",
     "timestamp": 1670090746893,
     "user": {
      "displayName": "Sameeksha Mishra",
      "userId": "05366612837765886351"
     },
     "user_tz": -330
    },
    "id": "QACIZAh4bxCu",
    "outputId": "4ec7b987-1a2e-4f70-aee2-536a379a9a45"
   },
   "outputs": [],
   "source": [
    "#Try our model on a random image that it has never seen before\n",
    "#Choose a MRI image without tumor\n",
    "path = \"/content/aug_data/no/aug_no 10_0_1664.jpg\"\n",
    "img_no = load_img(path, target_size=(240,240))\n",
    "img_array_no = img_to_array(img_no)/255\n",
    "img_array_no = np.expand_dims(img_array_no, axis=0)\n",
    "prediction2 = model.predict(img_array_no)[0][0]\n",
    "class2 = np.round(prediction2).astype(int)\n",
    "if class2 == 0:\n",
    "  print(\"The MRI image doesn't have a Tumor\")\n",
    "else:\n",
    "  print(\"The MRI image has a tumor\")"
   ]
  },
  {
   "cell_type": "markdown",
   "metadata": {
    "id": "mF6A_zlGb297"
   },
   "source": [
    "Transfer Learning"
   ]
  },
  {
   "cell_type": "code",
   "execution_count": null,
   "metadata": {
    "colab": {
     "base_uri": "https://localhost:8080/"
    },
    "executionInfo": {
     "elapsed": 2121,
     "status": "ok",
     "timestamp": 1670090755788,
     "user": {
      "displayName": "Sameeksha Mishra",
      "userId": "05366612837765886351"
     },
     "user_tz": -330
    },
    "id": "IaUFrYhgb2Ya",
    "outputId": "bfd2d745-9860-4991-b43f-8fb3209be75e"
   },
   "outputs": [],
   "source": [
    "#Import MobileNet Model\n",
    "from keras.applications.mobilenet import MobileNet\n",
    "base_model = MobileNet(input_shape=(240,240,3), include_top=False)"
   ]
  },
  {
   "cell_type": "code",
   "execution_count": null,
   "metadata": {
    "executionInfo": {
     "elapsed": 9,
     "status": "ok",
     "timestamp": 1670090755790,
     "user": {
      "displayName": "Sameeksha Mishra",
      "userId": "05366612837765886351"
     },
     "user_tz": -330
    },
    "id": "FWvYmV0sb84n"
   },
   "outputs": [],
   "source": [
    "#Make the layers of the model untrainable\n",
    "for layer in base_model.layers:\n",
    "  layer.trainable = False"
   ]
  },
  {
   "cell_type": "code",
   "execution_count": null,
   "metadata": {
    "executionInfo": {
     "elapsed": 3,
     "status": "ok",
     "timestamp": 1670090758070,
     "user": {
      "displayName": "Sameeksha Mishra",
      "userId": "05366612837765886351"
     },
     "user_tz": -330
    },
    "id": "TGX2Q32_cATp"
   },
   "outputs": [],
   "source": [
    "#Add a flatten and dense layers to the base model\n",
    "X = Flatten()(base_model.output)\n",
    "X = Dense(units=1, activation='sigmoid')(X)\n",
    "transfer_model = Model(base_model.input, X)"
   ]
  },
  {
   "cell_type": "code",
   "execution_count": null,
   "metadata": {
    "colab": {
     "base_uri": "https://localhost:8080/"
    },
    "executionInfo": {
     "elapsed": 104,
     "status": "ok",
     "timestamp": 1670090759303,
     "user": {
      "displayName": "Sameeksha Mishra",
      "userId": "05366612837765886351"
     },
     "user_tz": -330
    },
    "id": "IxjBM_UVcDUx",
    "outputId": "d62b1950-f6e3-4512-d656-06720cac391c"
   },
   "outputs": [],
   "source": [
    "transfer_model.summary()"
   ]
  },
  {
   "cell_type": "code",
   "execution_count": null,
   "metadata": {
    "executionInfo": {
     "elapsed": 3,
     "status": "ok",
     "timestamp": 1670090759836,
     "user": {
      "displayName": "Sameeksha Mishra",
      "userId": "05366612837765886351"
     },
     "user_tz": -330
    },
    "id": "w2T1MUzGcI0W"
   },
   "outputs": [],
   "source": [
    "#Compile the new model\n",
    "transfer_model.compile(optimizer='rmsprop', loss=keras.losses.binary_crossentropy, metrics=['accuracy'])"
   ]
  },
  {
   "cell_type": "code",
   "execution_count": null,
   "metadata": {
    "executionInfo": {
     "elapsed": 8,
     "status": "ok",
     "timestamp": 1670090760520,
     "user": {
      "displayName": "Sameeksha Mishra",
      "userId": "05366612837765886351"
     },
     "user_tz": -330
    },
    "id": "dJpxtfB9cLk5"
   },
   "outputs": [],
   "source": [
    "#Early stopping and model checkpoint\n",
    "est = EarlyStopping(monitor = 'val_accuracy', min_delta = 0.01, patience = 5, verbose = 1, mode = 'auto')\n",
    "mct = ModelCheckpoint(monitor ='val_accuracy', filepath = './besttransfermodel.h5', verbose = 1, save_best_only = True, mode = 'auto')\n",
    "\n",
    "cdt = [est, mct]"
   ]
  },
  {
   "cell_type": "code",
   "execution_count": null,
   "metadata": {
    "colab": {
     "base_uri": "https://localhost:8080/"
    },
    "executionInfo": {
     "elapsed": 33929,
     "status": "ok",
     "timestamp": 1670090796441,
     "user": {
      "displayName": "Sameeksha Mishra",
      "userId": "05366612837765886351"
     },
     "user_tz": -330
    },
    "id": "yal_E3mWcP6j",
    "outputId": "faf047f6-6a61-4755-c71f-e4e1596cd8b8"
   },
   "outputs": [],
   "source": [
    "#Fit our new model\n",
    "transfer_hist = transfer_model.fit(x = X_train, y = y_train, batch_size = 32, epochs = 30, validation_data = (X_val, y_val), callbacks = cdt, verbose = 1)"
   ]
  },
  {
   "cell_type": "code",
   "execution_count": null,
   "metadata": {
    "colab": {
     "base_uri": "https://localhost:8080/",
     "height": 281
    },
    "executionInfo": {
     "elapsed": 11388,
     "status": "ok",
     "timestamp": 1670090807805,
     "user": {
      "displayName": "Sameeksha Mishra",
      "userId": "05366612837765886351"
     },
     "user_tz": -330
    },
    "id": "DcL5YvwGcm4n",
    "outputId": "fb1fdad8-ae7b-421d-831f-86804851a9d2"
   },
   "outputs": [],
   "source": [
    "#Plot the graphical interpretation\n",
    "h = transfer_hist.history\n",
    "plt.plot(h['accuracy'], label = 'accuracy')\n",
    "plt.plot(h['val_accuracy'], label = 'val-accuracy')\n",
    "plt.title('Accuracy vs Val Accuracy')\n",
    "plt.legend()\n",
    "plt.show()"
   ]
  },
  {
   "cell_type": "code",
   "execution_count": null,
   "metadata": {
    "colab": {
     "base_uri": "https://localhost:8080/",
     "height": 281
    },
    "executionInfo": {
     "elapsed": 16,
     "status": "ok",
     "timestamp": 1670090807807,
     "user": {
      "displayName": "Sameeksha Mishra",
      "userId": "05366612837765886351"
     },
     "user_tz": -330
    },
    "id": "j4qs94NVcxVq",
    "outputId": "143d1335-2416-48dd-ab20-c940ed638610"
   },
   "outputs": [],
   "source": [
    "#Plot the graphical interpretation\n",
    "h = transfer_hist.history\n",
    "plt.plot(h['loss'], label = 'loss')\n",
    "plt.plot(h['val_loss'], label = 'val-loss')\n",
    "plt.title('Loss vs Val Loss')\n",
    "plt.legend()\n",
    "plt.show()"
   ]
  },
  {
   "cell_type": "code",
   "execution_count": null,
   "metadata": {
    "colab": {
     "base_uri": "https://localhost:8080/"
    },
    "executionInfo": {
     "elapsed": 2547,
     "status": "ok",
     "timestamp": 1670090810341,
     "user": {
      "displayName": "Sameeksha Mishra",
      "userId": "05366612837765886351"
     },
     "user_tz": -330
    },
    "id": "etuD8Sl2cy1K",
    "outputId": "36a25bad-0d43-4b2d-c1fc-41107c95c792"
   },
   "outputs": [],
   "source": [
    "#Test our model on the test set\n",
    "from keras.models import load_model\n",
    "model = load_model('/content/besttransfermodel.h5')\n",
    "acc = model.evaluate(X_test, y_test)[1]\n",
    "print(f'The accuracy of our model is {acc}')"
   ]
  }
 ],
 "metadata": {
  "accelerator": "GPU",
  "colab": {
   "authorship_tag": "ABX9TyPFtTE1BbuiCd17DGXG4KPf",
   "provenance": []
  },
  "gpuClass": "standard",
  "kernelspec": {
   "display_name": "Python 3 (ipykernel)",
   "language": "python",
   "name": "python3"
  },
  "language_info": {
   "codemirror_mode": {
    "name": "ipython",
    "version": 3
   },
   "file_extension": ".py",
   "mimetype": "text/x-python",
   "name": "python",
   "nbconvert_exporter": "python",
   "pygments_lexer": "ipython3",
   "version": "3.10.1"
  }
 },
 "nbformat": 4,
 "nbformat_minor": 1
}
