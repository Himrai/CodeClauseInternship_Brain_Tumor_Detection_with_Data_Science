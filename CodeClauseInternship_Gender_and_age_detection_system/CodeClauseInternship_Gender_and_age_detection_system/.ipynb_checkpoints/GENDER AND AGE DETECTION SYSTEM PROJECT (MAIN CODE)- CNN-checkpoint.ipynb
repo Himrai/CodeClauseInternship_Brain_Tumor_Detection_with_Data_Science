{
 "cells": [
  {
   "cell_type": "markdown",
   "metadata": {},
   "source": [
    "## Process of Importing Modules"
   ]
  },
  {
   "cell_type": "code",
   "execution_count": 3,
   "metadata": {
    "execution": {
     "iopub.execute_input": "2022-03-20T11:53:44.490524Z",
     "iopub.status.busy": "2022-03-20T11:53:44.490122Z",
     "iopub.status.idle": "2022-03-20T11:53:50.757098Z",
     "shell.execute_reply": "2022-03-20T11:53:50.756044Z",
     "shell.execute_reply.started": "2022-03-20T11:53:44.490417Z"
    }
   },
   "outputs": [
    {
     "name": "stdout",
     "output_type": "stream",
     "text": [
      "WARNING:tensorflow:From C:\\Users\\himra\\AppData\\Roaming\\Python\\Python310\\site-packages\\keras\\src\\losses.py:2976: The name tf.losses.sparse_softmax_cross_entropy is deprecated. Please use tf.compat.v1.losses.sparse_softmax_cross_entropy instead.\n",
      "\n"
     ]
    }
   ],
   "source": [
    "import pandas as pd\n",
    "import numpy as np\n",
    "import os\n",
    "import matplotlib.pyplot as plt\n",
    "import seaborn as sns\n",
    "import warnings\n",
    "from tqdm.notebook import tqdm\n",
    "warnings.filterwarnings('ignore')\n",
    "%matplotlib inline\n",
    "\n",
    "import tensorflow as tf\n",
    "from keras.preprocessing.image import load_img\n",
    "from keras.models import Sequential, Model\n",
    "from keras.layers import Dense, Conv2D, Dropout, Flatten, MaxPooling2D, Input"
   ]
  },
  {
   "cell_type": "markdown",
   "metadata": {},
   "source": [
    "##  Process of Loading the Dataset"
   ]
  },
  {
   "cell_type": "code",
   "execution_count": null,
   "metadata": {
    "execution": {
     "iopub.execute_input": "2022-03-20T11:54:34.368762Z",
     "iopub.status.busy": "2022-03-20T11:54:34.368229Z",
     "iopub.status.idle": "2022-03-20T11:54:34.373698Z",
     "shell.execute_reply": "2022-03-20T11:54:34.372675Z",
     "shell.execute_reply.started": "2022-03-20T11:54:34.368725Z"
    }
   },
   "outputs": [],
   "source": [
    "BASE_DIR = '../input/utkface-new/UTKFace/'"
   ]
  },
  {
   "cell_type": "code",
   "execution_count": null,
   "metadata": {
    "execution": {
     "iopub.execute_input": "2022-03-20T11:57:43.226333Z",
     "iopub.status.busy": "2022-03-20T11:57:43.226031Z",
     "iopub.status.idle": "2022-03-20T11:57:45.906861Z",
     "shell.execute_reply": "2022-03-20T11:57:45.905899Z",
     "shell.execute_reply.started": "2022-03-20T11:57:43.226300Z"
    }
   },
   "outputs": [],
   "source": [
    "# labels - age, gender, ethnicity\n",
    "image_paths = []\n",
    "age_labels = []\n",
    "gender_labels = []\n",
    "\n",
    "for filename in tqdm(os.listdir(BASE_DIR)):\n",
    "    image_path = os.path.join(BASE_DIR, filename)\n",
    "    temp = filename.split('_')\n",
    "    age = int(temp[0])\n",
    "    gender = int(temp[1])\n",
    "    image_paths.append(image_path)\n",
    "    age_labels.append(age)\n",
    "    gender_labels.append(gender)"
   ]
  },
  {
   "cell_type": "code",
   "execution_count": null,
   "metadata": {
    "execution": {
     "iopub.execute_input": "2022-03-20T11:59:11.153532Z",
     "iopub.status.busy": "2022-03-20T11:59:11.153185Z",
     "iopub.status.idle": "2022-03-20T11:59:11.429916Z",
     "shell.execute_reply": "2022-03-20T11:59:11.428939Z",
     "shell.execute_reply.started": "2022-03-20T11:59:11.153498Z"
    }
   },
   "outputs": [],
   "source": [
    "# convert to dataframe\n",
    "df = pd.DataFrame()\n",
    "df['image'], df['age'], df['gender'] = image_paths, age_labels, gender_labels\n",
    "df.head()"
   ]
  },
  {
   "cell_type": "code",
   "execution_count": null,
   "metadata": {
    "execution": {
     "iopub.execute_input": "2022-03-20T12:00:22.784370Z",
     "iopub.status.busy": "2022-03-20T12:00:22.784047Z",
     "iopub.status.idle": "2022-03-20T12:00:22.790497Z",
     "shell.execute_reply": "2022-03-20T12:00:22.788642Z",
     "shell.execute_reply.started": "2022-03-20T12:00:22.784339Z"
    }
   },
   "outputs": [],
   "source": [
    "# map labels for gender\n",
    "gender_dict = {0:'Male', 1:'Female'}"
   ]
  },
  {
   "cell_type": "markdown",
   "metadata": {},
   "source": [
    "## Process of Exploratory Data Analysis"
   ]
  },
  {
   "cell_type": "code",
   "execution_count": null,
   "metadata": {
    "execution": {
     "iopub.execute_input": "2022-03-20T12:01:25.732845Z",
     "iopub.status.busy": "2022-03-20T12:01:25.732332Z",
     "iopub.status.idle": "2022-03-20T12:01:25.927877Z",
     "shell.execute_reply": "2022-03-20T12:01:25.926856Z",
     "shell.execute_reply.started": "2022-03-20T12:01:25.732805Z"
    }
   },
   "outputs": [],
   "source": [
    "from PIL import Image\n",
    "img = Image.open(df['image'][0])\n",
    "plt.axis('off')\n",
    "plt.imshow(img);"
   ]
  },
  {
   "cell_type": "code",
   "execution_count": null,
   "metadata": {
    "execution": {
     "iopub.execute_input": "2022-03-20T12:02:43.539745Z",
     "iopub.status.busy": "2022-03-20T12:02:43.539335Z",
     "iopub.status.idle": "2022-03-20T12:02:44.089353Z",
     "shell.execute_reply": "2022-03-20T12:02:44.088343Z",
     "shell.execute_reply.started": "2022-03-20T12:02:43.539710Z"
    }
   },
   "outputs": [],
   "source": [
    "sns.distplot(df['age'])"
   ]
  },
  {
   "cell_type": "code",
   "execution_count": null,
   "metadata": {
    "execution": {
     "iopub.execute_input": "2022-03-20T12:03:55.987026Z",
     "iopub.status.busy": "2022-03-20T12:03:55.986704Z",
     "iopub.status.idle": "2022-03-20T12:03:56.192366Z",
     "shell.execute_reply": "2022-03-20T12:03:56.191367Z",
     "shell.execute_reply.started": "2022-03-20T12:03:55.986993Z"
    }
   },
   "outputs": [],
   "source": [
    "sns.countplot(df['gender'])"
   ]
  },
  {
   "cell_type": "code",
   "execution_count": null,
   "metadata": {
    "execution": {
     "iopub.execute_input": "2022-03-20T12:09:41.109046Z",
     "iopub.status.busy": "2022-03-20T12:09:41.108717Z",
     "iopub.status.idle": "2022-03-20T12:09:43.751799Z",
     "shell.execute_reply": "2022-03-20T12:09:43.750772Z",
     "shell.execute_reply.started": "2022-03-20T12:09:41.109012Z"
    }
   },
   "outputs": [],
   "source": [
    "# to display grid of images\n",
    "plt.figure(figsize=(20, 20))\n",
    "files = df.iloc[0:25]\n",
    "\n",
    "for index, file, age, gender in files.itertuples():\n",
    "    plt.subplot(5, 5, index+1)\n",
    "    img = load_img(file)\n",
    "    img = np.array(img)\n",
    "    plt.imshow(img)\n",
    "    plt.title(f\"Age: {age} Gender: {gender_dict[gender]}\")\n",
    "    plt.axis('off')"
   ]
  },
  {
   "cell_type": "markdown",
   "metadata": {},
   "source": [
    "## Process of Feature Extraction"
   ]
  },
  {
   "cell_type": "code",
   "execution_count": null,
   "metadata": {
    "execution": {
     "iopub.execute_input": "2022-03-20T12:14:06.429457Z",
     "iopub.status.busy": "2022-03-20T12:14:06.429100Z",
     "iopub.status.idle": "2022-03-20T12:14:06.436356Z",
     "shell.execute_reply": "2022-03-20T12:14:06.435168Z",
     "shell.execute_reply.started": "2022-03-20T12:14:06.429402Z"
    }
   },
   "outputs": [],
   "source": [
    "def extract_features(images):\n",
    "    features = []\n",
    "    for image in tqdm(images):\n",
    "        img = load_img(image, grayscale=True)\n",
    "        img = img.resize((128, 128), Image.ANTIALIAS)\n",
    "        img = np.array(img)\n",
    "        features.append(img)\n",
    "        \n",
    "    features = np.array(features)\n",
    "    # ignore this step if using RGB\n",
    "    features = features.reshape(len(features), 128, 128, 1)\n",
    "    return features"
   ]
  },
  {
   "cell_type": "code",
   "execution_count": null,
   "metadata": {
    "execution": {
     "iopub.execute_input": "2022-03-20T12:16:48.595216Z",
     "iopub.status.busy": "2022-03-20T12:16:48.594752Z",
     "iopub.status.idle": "2022-03-20T12:18:56.539215Z",
     "shell.execute_reply": "2022-03-20T12:18:56.538194Z",
     "shell.execute_reply.started": "2022-03-20T12:16:48.595167Z"
    }
   },
   "outputs": [],
   "source": [
    "X = extract_features(df['image'])"
   ]
  },
  {
   "cell_type": "code",
   "execution_count": null,
   "metadata": {
    "execution": {
     "iopub.execute_input": "2022-03-20T12:19:45.671921Z",
     "iopub.status.busy": "2022-03-20T12:19:45.671636Z",
     "iopub.status.idle": "2022-03-20T12:19:45.681520Z",
     "shell.execute_reply": "2022-03-20T12:19:45.680445Z",
     "shell.execute_reply.started": "2022-03-20T12:19:45.671889Z"
    }
   },
   "outputs": [],
   "source": [
    "X.shape"
   ]
  },
  {
   "cell_type": "code",
   "execution_count": null,
   "metadata": {
    "execution": {
     "iopub.execute_input": "2022-03-20T12:19:55.015942Z",
     "iopub.status.busy": "2022-03-20T12:19:55.015626Z",
     "iopub.status.idle": "2022-03-20T12:19:57.010406Z",
     "shell.execute_reply": "2022-03-20T12:19:57.009302Z",
     "shell.execute_reply.started": "2022-03-20T12:19:55.015905Z"
    }
   },
   "outputs": [],
   "source": [
    "# normalize the images\n",
    "X = X/255.0"
   ]
  },
  {
   "cell_type": "code",
   "execution_count": null,
   "metadata": {
    "execution": {
     "iopub.execute_input": "2022-03-20T12:19:58.975956Z",
     "iopub.status.busy": "2022-03-20T12:19:58.975664Z",
     "iopub.status.idle": "2022-03-20T12:19:58.983283Z",
     "shell.execute_reply": "2022-03-20T12:19:58.982192Z",
     "shell.execute_reply.started": "2022-03-20T12:19:58.975922Z"
    }
   },
   "outputs": [],
   "source": [
    "y_gender = np.array(df['gender'])\n",
    "y_age = np.array(df['age'])"
   ]
  },
  {
   "cell_type": "code",
   "execution_count": null,
   "metadata": {
    "execution": {
     "iopub.execute_input": "2022-03-20T12:20:01.018807Z",
     "iopub.status.busy": "2022-03-20T12:20:01.018499Z",
     "iopub.status.idle": "2022-03-20T12:20:01.023789Z",
     "shell.execute_reply": "2022-03-20T12:20:01.022411Z",
     "shell.execute_reply.started": "2022-03-20T12:20:01.018760Z"
    }
   },
   "outputs": [],
   "source": [
    "input_shape = (128, 128, 1)"
   ]
  },
  {
   "cell_type": "markdown",
   "metadata": {},
   "source": [
    "## Process of Model Creation"
   ]
  },
  {
   "cell_type": "code",
   "execution_count": null,
   "metadata": {
    "execution": {
     "iopub.execute_input": "2022-03-20T12:26:22.348683Z",
     "iopub.status.busy": "2022-03-20T12:26:22.348318Z",
     "iopub.status.idle": "2022-03-20T12:26:22.462952Z",
     "shell.execute_reply": "2022-03-20T12:26:22.461801Z",
     "shell.execute_reply.started": "2022-03-20T12:26:22.348640Z"
    }
   },
   "outputs": [],
   "source": [
    "inputs = Input((input_shape))\n",
    "# convolutional layers\n",
    "conv_1 = Conv2D(32, kernel_size=(3, 3), activation='relu') (inputs)\n",
    "maxp_1 = MaxPooling2D(pool_size=(2, 2)) (conv_1)\n",
    "conv_2 = Conv2D(64, kernel_size=(3, 3), activation='relu') (maxp_1)\n",
    "maxp_2 = MaxPooling2D(pool_size=(2, 2)) (conv_2)\n",
    "conv_3 = Conv2D(128, kernel_size=(3, 3), activation='relu') (maxp_2)\n",
    "maxp_3 = MaxPooling2D(pool_size=(2, 2)) (conv_3)\n",
    "conv_4 = Conv2D(256, kernel_size=(3, 3), activation='relu') (maxp_3)\n",
    "maxp_4 = MaxPooling2D(pool_size=(2, 2)) (conv_4)\n",
    "\n",
    "flatten = Flatten() (maxp_4)\n",
    "\n",
    "# fully connected layers\n",
    "dense_1 = Dense(256, activation='relu') (flatten)\n",
    "dense_2 = Dense(256, activation='relu') (flatten)\n",
    "\n",
    "dropout_1 = Dropout(0.3) (dense_1)\n",
    "dropout_2 = Dropout(0.3) (dense_2)\n",
    "\n",
    "output_1 = Dense(1, activation='sigmoid', name='gender_out') (dropout_1)\n",
    "output_2 = Dense(1, activation='relu', name='age_out') (dropout_2)\n",
    "\n",
    "model = Model(inputs=[inputs], outputs=[output_1, output_2])\n",
    "\n",
    "model.compile(loss=['binary_crossentropy', 'mae'], optimizer='adam', metrics=['accuracy'])"
   ]
  },
  {
   "cell_type": "code",
   "execution_count": null,
   "metadata": {
    "execution": {
     "iopub.execute_input": "2022-03-20T12:28:27.734019Z",
     "iopub.status.busy": "2022-03-20T12:28:27.733325Z",
     "iopub.status.idle": "2022-03-20T12:28:29.042565Z",
     "shell.execute_reply": "2022-03-20T12:28:29.041322Z",
     "shell.execute_reply.started": "2022-03-20T12:28:27.733981Z"
    }
   },
   "outputs": [],
   "source": [
    "# plot the model\n",
    "from tensorflow.keras.utils import plot_model\n",
    "plot_model(model)"
   ]
  },
  {
   "cell_type": "code",
   "execution_count": null,
   "metadata": {
    "execution": {
     "iopub.execute_input": "2022-03-20T12:29:47.448048Z",
     "iopub.status.busy": "2022-03-20T12:29:47.447396Z",
     "iopub.status.idle": "2022-03-20T12:34:39.746795Z",
     "shell.execute_reply": "2022-03-20T12:34:39.745804Z",
     "shell.execute_reply.started": "2022-03-20T12:29:47.448012Z"
    }
   },
   "outputs": [],
   "source": [
    "# train model\n",
    "history = model.fit(x=X, y=[y_gender, y_age], batch_size=32, epochs=30, validation_split=0.2)"
   ]
  },
  {
   "cell_type": "markdown",
   "metadata": {},
   "source": [
    "## Process of Plot the Results"
   ]
  },
  {
   "cell_type": "code",
   "execution_count": null,
   "metadata": {
    "execution": {
     "iopub.execute_input": "2022-03-20T12:40:00.882631Z",
     "iopub.status.busy": "2022-03-20T12:40:00.882280Z",
     "iopub.status.idle": "2022-03-20T12:40:01.385419Z",
     "shell.execute_reply": "2022-03-20T12:40:01.384331Z",
     "shell.execute_reply.started": "2022-03-20T12:40:00.882598Z"
    }
   },
   "outputs": [],
   "source": [
    "# plot results for gender\n",
    "acc = history.history['gender_out_accuracy']\n",
    "val_acc = history.history['val_gender_out_accuracy']\n",
    "epochs = range(len(acc))\n",
    "\n",
    "plt.plot(epochs, acc, 'b', label='Training Accuracy')\n",
    "plt.plot(epochs, val_acc, 'r', label='Validation Accuracy')\n",
    "plt.title('Accuracy Graph')\n",
    "plt.legend()\n",
    "plt.figure()\n",
    "\n",
    "loss = history.history['gender_out_loss']\n",
    "val_loss = history.history['val_gender_out_loss']\n",
    "\n",
    "plt.plot(epochs, loss, 'b', label='Training Loss')\n",
    "plt.plot(epochs, val_loss, 'r', label='Validation Loss')\n",
    "plt.title('Loss Graph')\n",
    "plt.legend()\n",
    "plt.show()"
   ]
  },
  {
   "cell_type": "code",
   "execution_count": null,
   "metadata": {
    "execution": {
     "iopub.execute_input": "2022-03-20T12:42:29.714175Z",
     "iopub.status.busy": "2022-03-20T12:42:29.713851Z",
     "iopub.status.idle": "2022-03-20T12:42:29.965624Z",
     "shell.execute_reply": "2022-03-20T12:42:29.964669Z",
     "shell.execute_reply.started": "2022-03-20T12:42:29.714142Z"
    }
   },
   "outputs": [],
   "source": [
    "# plot results for age\n",
    "loss = history.history['age_out_loss']\n",
    "val_loss = history.history['val_age_out_loss']\n",
    "epochs = range(len(loss))\n",
    "\n",
    "plt.plot(epochs, loss, 'b', label='Training Loss')\n",
    "plt.plot(epochs, val_loss, 'r', label='Validation Loss')\n",
    "plt.title('Loss Graph')\n",
    "plt.legend()\n",
    "plt.show()"
   ]
  },
  {
   "cell_type": "markdown",
   "metadata": {},
   "source": [
    "# Process of Prediction with Test Data"
   ]
  },
  {
   "cell_type": "code",
   "execution_count": null,
   "metadata": {
    "execution": {
     "iopub.execute_input": "2022-03-20T12:48:41.870715Z",
     "iopub.status.busy": "2022-03-20T12:48:41.870345Z",
     "iopub.status.idle": "2022-03-20T12:48:42.069910Z",
     "shell.execute_reply": "2022-03-20T12:48:42.068659Z",
     "shell.execute_reply.started": "2022-03-20T12:48:41.870681Z"
    }
   },
   "outputs": [],
   "source": [
    "image_index = 100\n",
    "print(\"Original Gender:\", gender_dict[y_gender[image_index]], \"Original Age:\", y_age[image_index])\n",
    "# predict from model\n",
    "pred = model.predict(X[image_index].reshape(1, 128, 128, 1))\n",
    "pred_gender = gender_dict[round(pred[0][0][0])]\n",
    "pred_age = round(pred[1][0][0])\n",
    "print(\"Predicted Gender:\", pred_gender, \"Predicted Age:\", pred_age)\n",
    "plt.axis('off')\n",
    "plt.imshow(X[image_index].reshape(128, 128), cmap='gray');"
   ]
  },
  {
   "cell_type": "code",
   "execution_count": null,
   "metadata": {
    "execution": {
     "iopub.execute_input": "2022-03-20T12:49:06.952465Z",
     "iopub.status.busy": "2022-03-20T12:49:06.952152Z",
     "iopub.status.idle": "2022-03-20T12:49:07.156286Z",
     "shell.execute_reply": "2022-03-20T12:49:07.155088Z",
     "shell.execute_reply.started": "2022-03-20T12:49:06.952427Z"
    }
   },
   "outputs": [],
   "source": [
    "image_index = 3000\n",
    "print(\"Original Gender:\", gender_dict[y_gender[image_index]], \"Original Age:\", y_age[image_index])\n",
    "# predict from model\n",
    "pred = model.predict(X[image_index].reshape(1, 128, 128, 1))\n",
    "pred_gender = gender_dict[round(pred[0][0][0])]\n",
    "pred_age = round(pred[1][0][0])\n",
    "print(\"Predicted Gender:\", pred_gender, \"Predicted Age:\", pred_age)\n",
    "plt.axis('off')\n",
    "plt.imshow(X[image_index].reshape(128, 128), cmap='gray');"
   ]
  },
  {
   "cell_type": "code",
   "execution_count": null,
   "metadata": {
    "execution": {
     "iopub.execute_input": "2022-03-20T12:49:37.286146Z",
     "iopub.status.busy": "2022-03-20T12:49:37.285838Z",
     "iopub.status.idle": "2022-03-20T12:49:37.641999Z",
     "shell.execute_reply": "2022-03-20T12:49:37.640793Z",
     "shell.execute_reply.started": "2022-03-20T12:49:37.286113Z"
    }
   },
   "outputs": [],
   "source": [
    "image_index = 10000\n",
    "print(\"Original Gender:\", gender_dict[y_gender[image_index]], \"Original Age:\", y_age[image_index])\n",
    "# predict from model\n",
    "pred = model.predict(X[image_index].reshape(1, 128, 128, 1))\n",
    "pred_gender = gender_dict[round(pred[0][0][0])]\n",
    "pred_age = round(pred[1][0][0])\n",
    "print(\"Predicted Gender:\", pred_gender, \"Predicted Age:\", pred_age)\n",
    "plt.axis('off')\n",
    "plt.imshow(X[image_index].reshape(128, 128), cmap='gray');"
   ]
  }
 ],
 "metadata": {
  "kernelspec": {
   "display_name": "Python 3 (ipykernel)",
   "language": "python",
   "name": "python3"
  },
  "language_info": {
   "codemirror_mode": {
    "name": "ipython",
    "version": 3
   },
   "file_extension": ".py",
   "mimetype": "text/x-python",
   "name": "python",
   "nbconvert_exporter": "python",
   "pygments_lexer": "ipython3",
   "version": "3.10.1"
  }
 },
 "nbformat": 4,
 "nbformat_minor": 4
}
